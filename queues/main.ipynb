{
 "cells": [
  {
   "cell_type": "code",
   "execution_count": 19,
   "metadata": {},
   "outputs": [
    {
     "name": "stdout",
     "output_type": "stream",
     "text": [
      "7\n",
      "530\n",
      "035\n",
      "3\n",
      "180\n",
      "081\n",
      "0\n",
      "[7, 350, 81]\n"
     ]
    }
   ],
   "source": [
    "n = 537 \n",
    "res = []\n",
    "str_n = str(n)\n",
    "# print(str_n)\n",
    "size = len(str_n)\n",
    "last = size-1\n",
    "init = 1\n",
    "while size > 0:\n",
    "    val = str_n[size - 1]\n",
    "    print(val)\n",
    "    if val != '0':\n",
    "        comp = (int(str_n[size - 1:size+1]) * init)\n",
    "        n-= comp\n",
    "        print(n)\n",
    "        str_n = str(n)[::-1]\n",
    "        print(str_n)\n",
    "        res.append(comp)\n",
    "        init *= 10\n",
    "        last = len(str_n) \n",
    "    size -= 1\n",
    "res.append(int(str_n[0:last+1]))\n",
    "print(res)"
   ]
  },
  {
   "cell_type": "code",
   "execution_count": null,
   "metadata": {},
   "outputs": [],
   "source": []
  }
 ],
 "metadata": {
  "kernelspec": {
   "display_name": "Python 3",
   "language": "python",
   "name": "python3"
  },
  "language_info": {
   "codemirror_mode": {
    "name": "ipython",
    "version": 3
   },
   "file_extension": ".py",
   "mimetype": "text/x-python",
   "name": "python",
   "nbconvert_exporter": "python",
   "pygments_lexer": "ipython3",
   "version": "3.12.6"
  }
 },
 "nbformat": 4,
 "nbformat_minor": 2
}
